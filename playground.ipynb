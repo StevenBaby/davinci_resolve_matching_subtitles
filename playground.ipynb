{
 "cells": [
  {
   "cell_type": "code",
   "execution_count": null,
   "metadata": {},
   "outputs": [],
   "source": [
    "import os\n",
    "import sys\n",
    "import traceback\n",
    "import datetime\n",
    "import tempfile"
   ]
  },
  {
   "cell_type": "code",
   "execution_count": null,
   "metadata": {},
   "outputs": [],
   "source": [
    "RESOLVE_SCRIPT_API = r\"%PROGRAMDATA%\\Blackmagic Design\\DaVinci Resolve\\Support\\Developer\\Scripting\"\n",
    "RESOLVE_SCRIPT_LIB = r\"C:\\Program Files\\Blackmagic Design\\DaVinci Resolve\\fusionscript.dll\"\n",
    "PYTHONPATH = r\"%RESOLVE_SCRIPT_API%\\Modules\\\\\"\n",
    "\n",
    "os.environ['RESOLVE_SCRIPT_API'] = RESOLVE_SCRIPT_API\n",
    "while '%' in PYTHONPATH:\n",
    "    PYTHONPATH = os.path.expandvars(PYTHONPATH)\n",
    "if PYTHONPATH not in sys.path:\n",
    "    sys.path.append(PYTHONPATH)"
   ]
  },
  {
   "cell_type": "code",
   "execution_count": null,
   "metadata": {},
   "outputs": [],
   "source": [
    "import DaVinciResolveScript as dvr\n",
    "\n",
    "resolve = dvr.scriptapp(\"Resolve\")\n",
    "fusion = resolve.Fusion()\n",
    "ui = fusion.UIManager\n",
    "disp = dvr.UIDispatcher(ui)\n",
    "\n",
    "projectManager = resolve.GetProjectManager()\n",
    "project = projectManager.GetCurrentProject()\n",
    "mediapool = project.GetMediaPool()\n",
    "# framerate = project.GetSetting('timelineFrameRate')\n",
    "timeline = project.GetCurrentTimeline()\n",
    "framerate = int(timeline.GetSetting(\"timelineFrameRate\"))\n",
    "startframe = timeline.GetStartFrame()"
   ]
  },
  {
   "cell_type": "code",
   "execution_count": null,
   "metadata": {},
   "outputs": [],
   "source": [
    "# timeline.AddTrack('video')\n",
    "# trackindex = timeline.GetTrackCount('video')\n",
    "# timeline.DeleteTrack('video', timeline.GetTrackCount('video'))"
   ]
  },
  {
   "cell_type": "code",
   "execution_count": null,
   "metadata": {},
   "outputs": [],
   "source": [
    "timeline.AddTrack('subtitle')\n",
    "trackindex = timeline.GetTrackCount('subtitle')"
   ]
  },
  {
   "cell_type": "code",
   "execution_count": null,
   "metadata": {},
   "outputs": [],
   "source": [
    "folder = mediapool.GetCurrentFolder()\n",
    "folder.GetClipList()\n",
    "mediaPoolItem = None\n",
    "for item in folder.GetClipList():\n",
    "    # print(item.GetName())\n",
    "    # print(item.GetClipProperty().get(\"Clip Name\", None))\n",
    "    if item.GetClipProperty().get(\"Clip Name\", None) == 'Subtitle':\n",
    "        mediaPoolItem = item"
   ]
  },
  {
   "cell_type": "code",
   "execution_count": null,
   "metadata": {},
   "outputs": [],
   "source": [
    "trackindex"
   ]
  },
  {
   "cell_type": "code",
   "execution_count": null,
   "metadata": {},
   "outputs": [],
   "source": [
    "newClip = {\n",
    "    \"mediaPoolItem\": mediaPoolItem,\n",
    "    \"startFrame\": 0,\n",
    "    \"endFrame\":   10,\n",
    "    \"trackIndex\": trackindex,\n",
    "    \"recordFrame\": 0,\n",
    "}\n",
    "mediapool.AppendToTimeline()"
   ]
  },
  {
   "cell_type": "code",
   "execution_count": null,
   "metadata": {},
   "outputs": [],
   "source": [
    "timeline.DeleteTrack('video', timeline.GetTrackCount('video'))"
   ]
  },
  {
   "cell_type": "code",
   "execution_count": null,
   "metadata": {},
   "outputs": [],
   "source": [
    "folder = mediapool.GetCurrentFolder()\n",
    "folder.GetClipList()\n",
    "mediaPoolItem = None\n",
    "for item in folder.GetClipList():\n",
    "    # print(item.GetName())\n",
    "    if item.GetClipProperty().get(\"Clip Name\", None) == 'TextTemplate':\n",
    "        mediaPoolItem = item\n",
    "\n",
    "subitems = timeline.GetItemListInTrack('subtitle', 1)\n",
    "for sub in subitems:\n",
    "    newClip = {\n",
    "        \"mediaPoolItem\": mediaPoolItem,\n",
    "        \"startFrame\": 0,\n",
    "        \"endFrame\":  sub.GetEnd() -  sub.GetStart(),\n",
    "        \"trackIndex\": trackindex,\n",
    "        \"recordFrame\": sub.GetStart(),\n",
    "    }\n",
    "    mediapool.AppendToTimeline([newClip])\n",
    "\n",
    "clipList = timeline.GetItemListInTrack('video', trackindex)\n",
    "\n",
    "for idx, clip in enumerate(clipList):\n",
    "    clip.SetClipColor('Orange')\n",
    "\n",
    "    comp = clip.GetFusionCompByIndex(1)\n",
    "    if comp:\n",
    "        toollist = list(comp.GetToolList().values())\n",
    "        for tool in toollist:\n",
    "            if tool.GetAttrs()[\"TOOLS_Name\"] == 'Template':\n",
    "                comp.SetActiveTool(tool)\n",
    "                tool.SetInput('StyledText', subitems[idx].GetName())\n",
    "    clip.SetClipColor('Teal')"
   ]
  }
 ],
 "metadata": {
  "kernelspec": {
   "display_name": "test",
   "language": "python",
   "name": "python3"
  },
  "language_info": {
   "codemirror_mode": {
    "name": "ipython",
    "version": 3
   },
   "file_extension": ".py",
   "mimetype": "text/x-python",
   "name": "python",
   "nbconvert_exporter": "python",
   "pygments_lexer": "ipython3",
   "version": "3.10.9"
  }
 },
 "nbformat": 4,
 "nbformat_minor": 2
}
